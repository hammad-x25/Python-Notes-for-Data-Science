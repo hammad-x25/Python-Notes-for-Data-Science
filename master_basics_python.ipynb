{
 "cells": [
  {
   "cell_type": "markdown",
   "id": "580d51e5-cdec-4d30-93cb-e1ce102e6cd1",
   "metadata": {},
   "source": [
    "$a=b+c$   to add equations like this and dollar sign at both ends \n",
    "\n",
    "\n"
   ]
  },
  {
   "cell_type": "code",
   "execution_count": 60,
   "id": "d7eb551d-e507-43cc-be2f-5fe90889b51c",
   "metadata": {},
   "outputs": [
    {
     "name": "stdout",
     "output_type": "stream",
     "text": [
      "All about equations at first\n"
     ]
    }
   ],
   "source": [
    "print(\"All about equations at first\")"
   ]
  },
  {
   "cell_type": "code",
   "execution_count": null,
   "id": "6d5ea312-f105-4a76-982f-0dcfd7c79690",
   "metadata": {},
   "outputs": [],
   "source": [
    "#just writing some arithmetic operations in start"
   ]
  },
  {
   "cell_type": "code",
   "execution_count": 7,
   "id": "d7efd2fd-22bd-4137-bfe3-a1675824b4fa",
   "metadata": {},
   "outputs": [
    {
     "data": {
      "text/plain": [
       "5"
      ]
     },
     "execution_count": 7,
     "metadata": {},
     "output_type": "execute_result"
    }
   ],
   "source": [
    "2+3"
   ]
  },
  {
   "cell_type": "code",
   "execution_count": 9,
   "id": "effd9557-e9cc-4045-9a8a-0d47981ee71b",
   "metadata": {},
   "outputs": [
    {
     "data": {
      "text/plain": [
       "2.0"
      ]
     },
     "execution_count": 9,
     "metadata": {},
     "output_type": "execute_result"
    }
   ],
   "source": [
    "2/1"
   ]
  },
  {
   "cell_type": "code",
   "execution_count": 10,
   "id": "2fe7aad0-27c0-4b0e-94ba-61e94b039ad3",
   "metadata": {},
   "outputs": [],
   "source": [
    "a=2+7"
   ]
  },
  {
   "cell_type": "code",
   "execution_count": 11,
   "id": "9514cf5b-d4c0-44ae-93a5-fb0668fb5634",
   "metadata": {},
   "outputs": [],
   "source": [
    "b=2"
   ]
  },
  {
   "cell_type": "code",
   "execution_count": 12,
   "id": "05a4cfa4-42dc-47a4-8d6b-c6a90a7244e9",
   "metadata": {},
   "outputs": [],
   "source": [
    "c=a+b"
   ]
  },
  {
   "cell_type": "code",
   "execution_count": 15,
   "id": "96b9080e-99e2-4f47-a8b7-6e77e37c000e",
   "metadata": {},
   "outputs": [
    {
     "name": "stdout",
     "output_type": "stream",
     "text": [
      "c is  11\n"
     ]
    }
   ],
   "source": [
    "print(\"c is \", c)#syntax of printing with value"
   ]
  },
  {
   "cell_type": "code",
   "execution_count": 17,
   "id": "1090cd87-da46-4d9c-bfb8-e4aa2fbe42c3",
   "metadata": {},
   "outputs": [],
   "source": [
    "e,f,g,h,i,j='a','b','c','d','e',11"
   ]
  },
  {
   "cell_type": "code",
   "execution_count": 18,
   "id": "25485c5b-3767-4d40-a451-b4273fbf0727",
   "metadata": {},
   "outputs": [
    {
     "name": "stdout",
     "output_type": "stream",
     "text": [
      "Variable               Type        Data/Info\n",
      "--------------------------------------------\n",
      "a                      int         9\n",
      "b                      int         2\n",
      "c                      int         11\n",
      "dataframe_columns      function    <function dataframe_colum<...>ns at 0x0000013CE56391C0>\n",
      "dataframe_hash         function    <function dataframe_hash at 0x0000013CE56389A0>\n",
      "dtypes_str             function    <function dtypes_str at 0x0000013CE5639940>\n",
      "e                      str         a\n",
      "f                      str         b\n",
      "g                      str         c\n",
      "get_dataframes         function    <function get_dataframes at 0x0000013CE5638900>\n",
      "getpass                module      <module 'getpass' from 'C<...>condas\\\\Lib\\\\getpass.py'>\n",
      "h                      str         d\n",
      "hashlib                module      <module 'hashlib' from 'C<...>condas\\\\Lib\\\\hashlib.py'>\n",
      "i                      str         e\n",
      "import_pandas_safely   function    <function import_pandas_s<...>ly at 0x0000013CE48CDB20>\n",
      "is_data_frame          function    <function is_data_frame at 0x0000013CE48CD4E0>\n",
      "j                      int         11\n",
      "json                   module      <module 'json' from 'C:\\\\<...>\\Lib\\\\json\\\\__init__.py'>\n"
     ]
    }
   ],
   "source": [
    "%whos \n",
    "# to check The variables stored along with their data types and values "
   ]
  },
  {
   "cell_type": "code",
   "execution_count": 19,
   "id": "dc50f352-fd77-4001-ae62-e84cff7cc6a3",
   "metadata": {},
   "outputs": [],
   "source": [
    "del a,b,c # command use to delete variables "
   ]
  },
  {
   "cell_type": "code",
   "execution_count": 21,
   "id": "2c8c1349-77a9-4059-a53c-476402e39a77",
   "metadata": {},
   "outputs": [
    {
     "name": "stdout",
     "output_type": "stream",
     "text": [
      "Variable               Type        Data/Info\n",
      "--------------------------------------------\n",
      "dataframe_columns      function    <function dataframe_colum<...>ns at 0x0000013CE48CE700>\n",
      "dataframe_hash         function    <function dataframe_hash at 0x0000013CE48CD4E0>\n",
      "dtypes_str             function    <function dtypes_str at 0x0000013CE48CDB20>\n",
      "e                      str         a\n",
      "f                      str         b\n",
      "g                      str         c\n",
      "get_dataframes         function    <function get_dataframes at 0x0000013CE56391C0>\n",
      "getpass                module      <module 'getpass' from 'C<...>condas\\\\Lib\\\\getpass.py'>\n",
      "h                      str         d\n",
      "hashlib                module      <module 'hashlib' from 'C<...>condas\\\\Lib\\\\hashlib.py'>\n",
      "i                      str         e\n",
      "import_pandas_safely   function    <function import_pandas_s<...>ly at 0x0000013CE5638E00>\n",
      "is_data_frame          function    <function is_data_frame at 0x0000013CE1F1A7A0>\n",
      "j                      int         11\n",
      "json                   module      <module 'json' from 'C:\\\\<...>\\Lib\\\\json\\\\__init__.py'>\n"
     ]
    }
   ],
   "source": [
    "%whos\n"
   ]
  },
  {
   "cell_type": "code",
   "execution_count": 23,
   "id": "625cf474-5dcb-4039-9d24-1d95a8c0c804",
   "metadata": {},
   "outputs": [],
   "source": [
    "del e,f,g,h,i,j"
   ]
  },
  {
   "cell_type": "code",
   "execution_count": 24,
   "id": "c458dd22-6f5d-42ea-8c25-cff2e94464df",
   "metadata": {},
   "outputs": [],
   "source": [
    "a=3+4j #complex numbers"
   ]
  },
  {
   "cell_type": "code",
   "execution_count": 26,
   "id": "3bbffb03-54ea-4923-bd98-2403721ef212",
   "metadata": {},
   "outputs": [],
   "source": [
    "b=2j+7"
   ]
  },
  {
   "cell_type": "code",
   "execution_count": 30,
   "id": "1f4278d3-dbc6-4406-8426-d058a941a0af",
   "metadata": {},
   "outputs": [
    {
     "name": "stdout",
     "output_type": "stream",
     "text": [
      "(0.5471698113207547+0.41509433962264153j)\n"
     ]
    }
   ],
   "source": [
    "print(a/b)"
   ]
  },
  {
   "cell_type": "code",
   "execution_count": 31,
   "id": "adef10bb-10fe-4ff3-bedb-7faefccc04ed",
   "metadata": {},
   "outputs": [
    {
     "name": "stdout",
     "output_type": "stream",
     "text": [
      "<class 'complex'>\n"
     ]
    }
   ],
   "source": [
    "print(type(a/b)) # here type is used to describe the data type of a/b"
   ]
  },
  {
   "cell_type": "code",
   "execution_count": 34,
   "id": "7d97d9c7-576c-498e-a159-bb862d3c9455",
   "metadata": {},
   "outputs": [
    {
     "name": "stdout",
     "output_type": "stream",
     "text": [
      "1000\n"
     ]
    }
   ],
   "source": [
    "print(10**3) #** is used for taking powers a**b means a raise  power b"
   ]
  },
  {
   "cell_type": "code",
   "execution_count": 36,
   "id": "1ce80d34-4db8-4133-a3c3-949bda60e8b7",
   "metadata": {},
   "outputs": [],
   "source": [
    "s1=\"hello\" #stirng, we will discuss a lot about strings below "
   ]
  },
  {
   "cell_type": "code",
   "execution_count": 44,
   "id": "3a05d6fa-cc60-41e6-8892-cd3b203a31f2",
   "metadata": {},
   "outputs": [
    {
     "name": "stdout",
     "output_type": "stream",
     "text": [
      "helloworld\n"
     ]
    }
   ],
   "source": [
    "s2=\"world\"\n",
    "print(s1+s2) #concatenation"
   ]
  },
  {
   "cell_type": "code",
   "execution_count": 47,
   "id": "b868d9bd-59f9-4aba-8304-cbdcc52d0d01",
   "metadata": {},
   "outputs": [
    {
     "name": "stdout",
     "output_type": "stream",
     "text": [
      "3.3333333333333335\n"
     ]
    }
   ],
   "source": [
    "#Now Some about booleans expressions "
   ]
  },
  {
   "cell_type": "code",
   "execution_count": 49,
   "id": "57546fdf-1815-4a25-b53c-4cdb0da1c69b",
   "metadata": {},
   "outputs": [
    {
     "data": {
      "text/plain": [
       "3.3333333333333335"
      ]
     },
     "execution_count": 49,
     "metadata": {},
     "output_type": "execute_result"
    }
   ],
   "source": [
    "10/3"
   ]
  },
  {
   "cell_type": "code",
   "execution_count": 52,
   "id": "2a022b21-3b2a-4cd1-be58-09ce720acfa4",
   "metadata": {},
   "outputs": [
    {
     "name": "stdout",
     "output_type": "stream",
     "text": [
      "{\"dataframes\": [], \"user\": \"User\"}\n"
     ]
    }
   ],
   "source": [
    "print(_)#in some jupyter notebook versions _ is used to store the last value computed without storing "
   ]
  },
  {
   "cell_type": "code",
   "execution_count": 53,
   "id": "07f674fd-848c-4e39-aeac-860641d22d99",
   "metadata": {},
   "outputs": [
    {
     "name": "stdout",
     "output_type": "stream",
     "text": [
      "Variable               Type        Data/Info\n",
      "--------------------------------------------\n",
      "a                      complex     (3+4j)\n",
      "b                      complex     (7+2j)\n",
      "dataframe_columns      function    <function dataframe_colum<...>ns at 0x0000013CE56380E0>\n",
      "dataframe_hash         function    <function dataframe_hash at 0x0000013CE5639B20>\n",
      "dtypes_str             function    <function dtypes_str at 0x0000013CE5638040>\n",
      "get_dataframes         function    <function get_dataframes at 0x0000013CE563ACA0>\n",
      "getpass                module      <module 'getpass' from 'C<...>condas\\\\Lib\\\\getpass.py'>\n",
      "hashlib                module      <module 'hashlib' from 'C<...>condas\\\\Lib\\\\hashlib.py'>\n",
      "import_pandas_safely   function    <function import_pandas_s<...>ly at 0x0000013CE56384A0>\n",
      "is_data_frame          function    <function is_data_frame at 0x0000013CE563BA60>\n",
      "json                   module      <module 'json' from 'C:\\\\<...>\\Lib\\\\json\\\\__init__.py'>\n",
      "s1                     str         hello\n",
      "s2                     str         world\n"
     ]
    }
   ],
   "source": [
    "%whos"
   ]
  },
  {
   "cell_type": "code",
   "execution_count": 56,
   "id": "340ea7be-36d6-4e39-a8a9-777f743d7452",
   "metadata": {},
   "outputs": [
    {
     "data": {
      "text/plain": [
       "True"
      ]
     },
     "execution_count": 56,
     "metadata": {},
     "output_type": "execute_result"
    }
   ],
   "source": [
    "c=True\n",
    "c"
   ]
  },
  {
   "cell_type": "code",
   "execution_count": 65,
   "id": "b8b580be-bcf7-4b76-acdb-b1c11713531f",
   "metadata": {},
   "outputs": [
    {
     "name": "stdout",
     "output_type": "stream",
     "text": [
      "False\n"
     ]
    },
    {
     "data": {
      "text/plain": [
       "bool"
      ]
     },
     "execution_count": 65,
     "metadata": {},
     "output_type": "execute_result"
    }
   ],
   "source": [
    "b=False\n",
    "print(b)\n",
    "type(b)"
   ]
  },
  {
   "cell_type": "code",
   "execution_count": 71,
   "id": "e36e3c5d-db25-4a43-b9eb-093f8fb35615",
   "metadata": {},
   "outputs": [
    {
     "name": "stdout",
     "output_type": "stream",
     "text": [
      "True\n"
     ]
    }
   ],
   "source": [
    "print(a and c) #and is true when both operands are true otherwise false \n",
    " #or is true when either one is true \n",
    "# not just reverse the value "
   ]
  },
  {
   "cell_type": "code",
   "execution_count": 75,
   "id": "724317e3-f918-4d59-b690-2fd6ea8e94f2",
   "metadata": {},
   "outputs": [
    {
     "name": "stdout",
     "output_type": "stream",
     "text": [
      "True\n"
     ]
    }
   ],
   "source": [
    "print((not(1) or True )or (1 and 1))"
   ]
  },
  {
   "cell_type": "code",
   "execution_count": null,
   "id": "3548a755-c580-4582-888f-b25e53094066",
   "metadata": {},
   "outputs": [],
   "source": [
    "#some types of data "
   ]
  },
  {
   "cell_type": "code",
   "execution_count": 8,
   "id": "36a6f94e-adcb-463f-8469-835d59d4471f",
   "metadata": {},
   "outputs": [
    {
     "name": "stdout",
     "output_type": "stream",
     "text": [
      "a is of datatype  <class 'int'>\n"
     ]
    }
   ],
   "source": [
    "print(\"a is of datatype \",type(a))"
   ]
  },
  {
   "cell_type": "code",
   "execution_count": 2,
   "id": "2b045c9b-4d04-4a95-acae-032010ef765f",
   "metadata": {},
   "outputs": [
    {
     "data": {
      "text/plain": [
       "float"
      ]
     },
     "execution_count": 2,
     "metadata": {},
     "output_type": "execute_result"
    }
   ],
   "source": [
    "a=3.4\n",
    "type(a)\n"
   ]
  },
  {
   "cell_type": "code",
   "execution_count": 3,
   "id": "b9c77b3a-ffda-4c47-b243-f7bc8051e35c",
   "metadata": {},
   "outputs": [
    {
     "data": {
      "text/plain": [
       "float"
      ]
     },
     "execution_count": 3,
     "metadata": {},
     "output_type": "execute_result"
    }
   ],
   "source": [
    "round(a)\n",
    "type(a)"
   ]
  },
  {
   "cell_type": "code",
   "execution_count": 4,
   "id": "c2d81615-dda6-4a98-a719-ac2aa3109dcd",
   "metadata": {},
   "outputs": [
    {
     "name": "stdout",
     "output_type": "stream",
     "text": [
      "3.4\n"
     ]
    }
   ],
   "source": [
    "print(a)"
   ]
  },
  {
   "cell_type": "code",
   "execution_count": null,
   "id": "0563ec54-b355-4535-97bd-d76f0690e404",
   "metadata": {},
   "outputs": [],
   "source": [
    "#simple functions "
   ]
  },
  {
   "cell_type": "code",
   "execution_count": 5,
   "id": "e8628947-8d2b-446a-953c-89809a5f4b8e",
   "metadata": {},
   "outputs": [
    {
     "data": {
      "text/plain": [
       "3"
      ]
     },
     "execution_count": 5,
     "metadata": {},
     "output_type": "execute_result"
    }
   ],
   "source": [
    "a=3.4\n",
    "round(a) # used to round value "
   ]
  },
  {
   "cell_type": "code",
   "execution_count": 6,
   "id": "49299dbf-1f2c-4fbe-95d4-133fa50913ec",
   "metadata": {},
   "outputs": [
    {
     "name": "stdout",
     "output_type": "stream",
     "text": [
      "3.4\n"
     ]
    }
   ],
   "source": [
    "print(a)"
   ]
  },
  {
   "cell_type": "code",
   "execution_count": 18,
   "id": "9e3bf0ed-f2dd-4427-9a8b-09708d3f751b",
   "metadata": {},
   "outputs": [
    {
     "data": {
      "text/plain": [
       "(5, 2)"
      ]
     },
     "execution_count": 18,
     "metadata": {},
     "output_type": "execute_result"
    }
   ],
   "source": [
    "divmod(27,5) # used to return as a tuple in (quotient,remainder ) form"
   ]
  },
  {
   "cell_type": "code",
   "execution_count": 23,
   "id": "489eb737-5d27-412f-82cf-a07b8edd1453",
   "metadata": {},
   "outputs": [
    {
     "name": "stdout",
     "output_type": "stream",
     "text": [
      "g= (2, 1)\n"
     ]
    }
   ],
   "source": [
    "print(\"g=\",divmod(7,3))"
   ]
  },
  {
   "cell_type": "code",
   "execution_count": 24,
   "id": "ab34d69b-7166-419f-96c5-a3fc0a03710c",
   "metadata": {},
   "outputs": [
    {
     "name": "stdout",
     "output_type": "stream",
     "text": [
      "Variable               Type        Data/Info\n",
      "--------------------------------------------\n",
      "a                      float       3.4\n",
      "dataframe_columns      function    <function dataframe_colum<...>ns at 0x000001173914F240>\n",
      "dataframe_hash         function    <function dataframe_hash at 0x000001173914EB60>\n",
      "dtypes_str             function    <function dtypes_str at 0x000001173914E3E0>\n",
      "g                      tuple       n=2\n",
      "get_dataframes         function    <function get_dataframes at 0x000001173914D9E0>\n",
      "getpass                module      <module 'getpass' from 'C<...>condas\\\\Lib\\\\getpass.py'>\n",
      "hashlib                module      <module 'hashlib' from 'C<...>condas\\\\Lib\\\\hashlib.py'>\n",
      "import_pandas_safely   function    <function import_pandas_s<...>ly at 0x000001173914CCC0>\n",
      "is_data_frame          function    <function is_data_frame at 0x000001173914EFC0>\n",
      "json                   module      <module 'json' from 'C:\\\\<...>\\Lib\\\\json\\\\__init__.py'>\n"
     ]
    }
   ],
   "source": [
    "%whos\n"
   ]
  },
  {
   "cell_type": "code",
   "execution_count": 26,
   "id": "a55eb0d6-a1c2-4f08-93d8-052c75bc0177",
   "metadata": {},
   "outputs": [],
   "source": [
    "c=g[0]*a # its values can be accessed by index 0 or 1"
   ]
  },
  {
   "cell_type": "code",
   "execution_count": 27,
   "id": "9817d256-d7af-4855-abbd-2a394c656cd7",
   "metadata": {},
   "outputs": [
    {
     "name": "stdout",
     "output_type": "stream",
     "text": [
      "6.8\n"
     ]
    }
   ],
   "source": [
    "print(c)"
   ]
  },
  {
   "cell_type": "code",
   "execution_count": 28,
   "id": "1149f225-fdcf-4b2a-9605-3069fb208d06",
   "metadata": {},
   "outputs": [
    {
     "name": "stdout",
     "output_type": "stream",
     "text": [
      "<class 'bool'>\n",
      "True\n"
     ]
    }
   ],
   "source": [
    "w=isinstance(3,int) # it is used to check either a varible is of the mentioned data type or not \n",
    "print(type(w))\n",
    "print(w)"
   ]
  },
  {
   "cell_type": "code",
   "execution_count": 29,
   "id": "bc486a3d-3297-4056-8db5-32934e87390b",
   "metadata": {},
   "outputs": [
    {
     "name": "stdout",
     "output_type": "stream",
     "text": [
      "<class 'bool'>\n",
      "False\n"
     ]
    }
   ],
   "source": [
    "w=isinstance(3.1,int)\n",
    "print(type(w))\n",
    "print(w)\n"
   ]
  },
  {
   "cell_type": "code",
   "execution_count": 30,
   "id": "d9cc4d6b-9849-4bfd-8674-21859dfcdf35",
   "metadata": {},
   "outputs": [
    {
     "name": "stdout",
     "output_type": "stream",
     "text": [
      "Variable               Type        Data/Info\n",
      "--------------------------------------------\n",
      "a                      float       3.4\n",
      "c                      float       6.8\n",
      "dataframe_columns      function    <function dataframe_colum<...>ns at 0x000001173914F920>\n",
      "dataframe_hash         function    <function dataframe_hash at 0x00000117359885E0>\n",
      "dtypes_str             function    <function dtypes_str at 0x000001173914E660>\n",
      "g                      tuple       n=2\n",
      "get_dataframes         function    <function get_dataframes at 0x000001173914EC00>\n",
      "getpass                module      <module 'getpass' from 'C<...>condas\\\\Lib\\\\getpass.py'>\n",
      "hashlib                module      <module 'hashlib' from 'C<...>condas\\\\Lib\\\\hashlib.py'>\n",
      "import_pandas_safely   function    <function import_pandas_s<...>ly at 0x00000117359882C0>\n",
      "is_data_frame          function    <function is_data_frame at 0x000001173598B920>\n",
      "json                   module      <module 'json' from 'C:\\\\<...>\\Lib\\\\json\\\\__init__.py'>\n",
      "w                      bool        False\n"
     ]
    }
   ],
   "source": [
    "%whos\n"
   ]
  },
  {
   "cell_type": "code",
   "execution_count": 38,
   "id": "27c30721-e339-4a10-b6f0-cd4d7abc177e",
   "metadata": {},
   "outputs": [
    {
     "name": "stdout",
     "output_type": "stream",
     "text": [
      "True\n"
     ]
    }
   ],
   "source": [
    "f=isinstance('abc',(str))\n",
    "print(f)"
   ]
  },
  {
   "cell_type": "code",
   "execution_count": 39,
   "id": "020912b5-262d-4203-9ffe-2aeaa23a90e2",
   "metadata": {},
   "outputs": [
    {
     "data": {
      "text/plain": [
       "16"
      ]
     },
     "execution_count": 39,
     "metadata": {},
     "output_type": "execute_result"
    }
   ],
   "source": [
    "pow(2,4)# power function"
   ]
  },
  {
   "cell_type": "code",
   "execution_count": 40,
   "id": "5fd233d0-4d59-4fd4-b5b9-9d10d22cc2b3",
   "metadata": {},
   "outputs": [
    {
     "data": {
      "text/plain": [
       "0"
      ]
     },
     "execution_count": 40,
     "metadata": {},
     "output_type": "execute_result"
    }
   ],
   "source": [
    "pow(2,4,16) # first taking power of 2 raise 4 and then calculates its remainder with 16"
   ]
  },
  {
   "cell_type": "code",
   "execution_count": 41,
   "id": "f506deff-54b9-47a0-902a-bad78f7968ac",
   "metadata": {},
   "outputs": [
    {
     "data": {
      "text/plain": [
       "16"
      ]
     },
     "execution_count": 41,
     "metadata": {},
     "output_type": "execute_result"
    }
   ],
   "source": [
    "pow(2,4,18)"
   ]
  },
  {
   "cell_type": "code",
   "execution_count": 46,
   "id": "1b54e224-6700-4ec0-93d9-c0cd7d4ad02a",
   "metadata": {},
   "outputs": [
    {
     "name": "stdout",
     "output_type": "stream",
     "text": [
      "True\n"
     ]
    }
   ],
   "source": [
    "print(isinstance(3,(complex,str,complex,int ))) # checking whether the number belongs to any of this datatypes"
   ]
  },
  {
   "cell_type": "code",
   "execution_count": 58,
   "id": "05177aa8-dde7-4a4e-8d05-de6dff184b3b",
   "metadata": {},
   "outputs": [
    {
     "name": "stdin",
     "output_type": "stream",
     "text": [
      "Enter what you want 3.2\n"
     ]
    }
   ],
   "source": [
    "s=float(input(\"Enter what you want\"))    # syntax to take input from user and when it take input it takes as all the things as str and then you can convert it as you want"
   ]
  },
  {
   "cell_type": "code",
   "execution_count": 51,
   "id": "f5932014-8d35-48a2-9286-e250dd7500f8",
   "metadata": {},
   "outputs": [
    {
     "name": "stdout",
     "output_type": "stream",
     "text": [
      "<class 'float'>\n"
     ]
    }
   ],
   "source": [
    "print(type(s))"
   ]
  },
  {
   "cell_type": "code",
   "execution_count": 53,
   "id": "0a781d26-99bc-40fb-a65f-1cef0bd1dde8",
   "metadata": {},
   "outputs": [
    {
     "data": {
      "text/plain": [
       "\u001b[1;31mSignature:\u001b[0m \u001b[0minput\u001b[0m\u001b[1;33m(\u001b[0m\u001b[0mprompt\u001b[0m\u001b[1;33m=\u001b[0m\u001b[1;34m''\u001b[0m\u001b[1;33m)\u001b[0m\u001b[1;33m\u001b[0m\u001b[1;33m\u001b[0m\u001b[0m\n",
       "\u001b[1;31mSource:\u001b[0m   \n",
       "    \u001b[1;32mdef\u001b[0m \u001b[0mraw_input\u001b[0m\u001b[1;33m(\u001b[0m\u001b[0mself\u001b[0m\u001b[1;33m,\u001b[0m \u001b[0mprompt\u001b[0m\u001b[1;33m=\u001b[0m\u001b[1;34m\"\"\u001b[0m\u001b[1;33m)\u001b[0m\u001b[1;33m:\u001b[0m\u001b[1;33m\n",
       "\u001b[0m        \u001b[1;34m\"\"\"Forward raw_input to frontends\n",
       "\n",
       "        Raises\n",
       "        ------\n",
       "        StdinNotImplementedError if active frontend doesn't support stdin.\n",
       "        \"\"\"\u001b[0m\u001b[1;33m\n",
       "\u001b[0m        \u001b[1;32mif\u001b[0m \u001b[1;32mnot\u001b[0m \u001b[0mself\u001b[0m\u001b[1;33m.\u001b[0m\u001b[0m_allow_stdin\u001b[0m\u001b[1;33m:\u001b[0m\u001b[1;33m\n",
       "\u001b[0m            \u001b[0mmsg\u001b[0m \u001b[1;33m=\u001b[0m \u001b[1;34m\"raw_input was called, but this frontend does not support input requests.\"\u001b[0m\u001b[1;33m\n",
       "\u001b[0m            \u001b[1;32mraise\u001b[0m \u001b[0mStdinNotImplementedError\u001b[0m\u001b[1;33m(\u001b[0m\u001b[0mmsg\u001b[0m\u001b[1;33m)\u001b[0m\u001b[1;33m\n",
       "\u001b[0m        \u001b[1;32mreturn\u001b[0m \u001b[0mself\u001b[0m\u001b[1;33m.\u001b[0m\u001b[0m_input_request\u001b[0m\u001b[1;33m(\u001b[0m\u001b[1;33m\n",
       "\u001b[0m            \u001b[0mstr\u001b[0m\u001b[1;33m(\u001b[0m\u001b[0mprompt\u001b[0m\u001b[1;33m)\u001b[0m\u001b[1;33m,\u001b[0m\u001b[1;33m\n",
       "\u001b[0m            \u001b[0mself\u001b[0m\u001b[1;33m.\u001b[0m\u001b[0m_parent_ident\u001b[0m\u001b[1;33m[\u001b[0m\u001b[1;34m\"shell\"\u001b[0m\u001b[1;33m]\u001b[0m\u001b[1;33m,\u001b[0m\u001b[1;33m\n",
       "\u001b[0m            \u001b[0mself\u001b[0m\u001b[1;33m.\u001b[0m\u001b[0mget_parent\u001b[0m\u001b[1;33m(\u001b[0m\u001b[1;34m\"shell\"\u001b[0m\u001b[1;33m)\u001b[0m\u001b[1;33m,\u001b[0m\u001b[1;33m\n",
       "\u001b[0m            \u001b[0mpassword\u001b[0m\u001b[1;33m=\u001b[0m\u001b[1;32mFalse\u001b[0m\u001b[1;33m,\u001b[0m\u001b[1;33m\n",
       "\u001b[0m        \u001b[1;33m)\u001b[0m\u001b[1;33m\u001b[0m\u001b[1;33m\u001b[0m\u001b[0m\n",
       "\u001b[1;31mFile:\u001b[0m      c:\\condas\\lib\\site-packages\\ipykernel\\kernelbase.py\n",
       "\u001b[1;31mType:\u001b[0m      method"
      ]
     },
     "metadata": {},
     "output_type": "display_data"
    }
   ],
   "source": [
    " input??#it helps you to define the function \n"
   ]
  },
  {
   "cell_type": "code",
   "execution_count": 54,
   "id": "3cde056f-b928-4168-8c49-65ce5175e7af",
   "metadata": {},
   "outputs": [
    {
     "name": "stdout",
     "output_type": "stream",
     "text": [
      "Help on method raw_input in module ipykernel.kernelbase:\n",
      "\n",
      "raw_input(prompt='') method of ipykernel.ipkernel.IPythonKernel instance\n",
      "    Forward raw_input to frontends\n",
      "\n",
      "    Raises\n",
      "    ------\n",
      "    StdinNotImplementedError if active frontend doesn't support stdin.\n",
      "\n"
     ]
    }
   ],
   "source": [
    "help(input) # it also tells what the function is about"
   ]
  },
  {
   "cell_type": "code",
   "execution_count": 67,
   "id": "2f45de70-c89e-4567-a688-d2597306fc74",
   "metadata": {},
   "outputs": [
    {
     "name": "stdin",
     "output_type": "stream",
     "text": [
      "enter value a  abcc\n",
      "enter value b  cds\n"
     ]
    },
    {
     "name": "stdout",
     "output_type": "stream",
     "text": [
      "b is greater\n",
      "hey\n"
     ]
    }
   ],
   "source": [
    " a=str(input('enter value a '))\n",
    " b=str(input('enter value b '))  # a compherensive version of if-else \n",
    "if(a>b):                         # remember! identation is very important ,otherwise you will not get the required output\n",
    "    print('a is greater')\n",
    "elif(b>a):\n",
    "    print('b is greater')\n",
    "else:\n",
    "    print('Both are Equal')\n",
    "    print(\"hello\")\n",
    "print(\"hey\")"
   ]
  },
  {
   "cell_type": "code",
   "execution_count": 68,
   "id": "e701fe70-20db-42d2-840b-122ded06631e",
   "metadata": {},
   "outputs": [
    {
     "name": "stdout",
     "output_type": "stream",
     "text": [
      "Variable               Type        Data/Info\n",
      "--------------------------------------------\n",
      "a                      str         abcc\n",
      "b                      str         cds\n",
      "c                      float       6.8\n",
      "dataframe_columns      function    <function dataframe_colum<...>ns at 0x000001173956F380>\n",
      "dataframe_hash         function    <function dataframe_hash at 0x0000011739636200>\n",
      "dtypes_str             function    <function dtypes_str at 0x0000011739634720>\n",
      "f                      bool        True\n",
      "g                      tuple       n=2\n",
      "get_dataframes         function    <function get_dataframes at 0x000001173956F4C0>\n",
      "getpass                module      <module 'getpass' from 'C<...>condas\\\\Lib\\\\getpass.py'>\n",
      "hashlib                module      <module 'hashlib' from 'C<...>condas\\\\Lib\\\\hashlib.py'>\n",
      "import_pandas_safely   function    <function import_pandas_s<...>ly at 0x00000117396363E0>\n",
      "is_data_frame          function    <function is_data_frame at 0x0000011739636480>\n",
      "json                   module      <module 'json' from 'C:\\\\<...>\\Lib\\\\json\\\\__init__.py'>\n",
      "s                      float       3.4\n",
      "w                      bool        False\n"
     ]
    }
   ],
   "source": [
    "%whos"
   ]
  },
  {
   "cell_type": "code",
   "execution_count": 69,
   "id": "402fef01-372b-499b-a34e-9ec9cf173dc9",
   "metadata": {},
   "outputs": [],
   "source": [
    "del a,b,c,s,w\n"
   ]
  },
  {
   "cell_type": "code",
   "execution_count": 70,
   "id": "61367a78-24b9-4422-98ac-b71840650e50",
   "metadata": {},
   "outputs": [
    {
     "name": "stdout",
     "output_type": "stream",
     "text": [
      "Variable               Type        Data/Info\n",
      "--------------------------------------------\n",
      "dataframe_columns      function    <function dataframe_colum<...>ns at 0x00000117396363E0>\n",
      "dataframe_hash         function    <function dataframe_hash at 0x0000011739634EA0>\n",
      "dtypes_str             function    <function dtypes_str at 0x0000011739636480>\n",
      "f                      bool        True\n",
      "g                      tuple       n=2\n",
      "get_dataframes         function    <function get_dataframes at 0x0000011739634720>\n",
      "getpass                module      <module 'getpass' from 'C<...>condas\\\\Lib\\\\getpass.py'>\n",
      "hashlib                module      <module 'hashlib' from 'C<...>condas\\\\Lib\\\\hashlib.py'>\n",
      "import_pandas_safely   function    <function import_pandas_s<...>ly at 0x00000117396360C0>\n",
      "is_data_frame          function    <function is_data_frame at 0x0000011739634540>\n",
      "json                   module      <module 'json' from 'C:\\\\<...>\\Lib\\\\json\\\\__init__.py'>\n"
     ]
    }
   ],
   "source": [
    "%whos\n"
   ]
  },
  {
   "cell_type": "markdown",
   "id": "785887f0-2607-4430-bb7a-1605c0261fe9",
   "metadata": {},
   "source": [
    "short if statement"
   ]
  },
  {
   "cell_type": "code",
   "execution_count": 3,
   "id": "cdb8beaa-77c0-4332-9ba4-c2abacd65e54",
   "metadata": {},
   "outputs": [
    {
     "name": "stdin",
     "output_type": "stream",
     "text": [
      " 10\n",
      " 5\n"
     ]
    },
    {
     "name": "stdout",
     "output_type": "stream",
     "text": [
      "a\n"
     ]
    }
   ],
   "source": [
    "a =int(input())\n",
    "\n",
    "b =int(input())\n",
    "print(\"a\") if a>b else print (\"a==b\") if a==b else print(\"B\") "
   ]
  },
  {
   "cell_type": "markdown",
   "id": "5fa861c6-b4eb-41bf-acae-1fcc407ebbb0",
   "metadata": {},
   "source": [
    "#NESTED IF"
   ]
  },
  {
   "cell_type": "code",
   "execution_count": 13,
   "id": "710bad46-8161-42fb-8015-6ebeeaae00df",
   "metadata": {},
   "outputs": [
    {
     "name": "stdin",
     "output_type": "stream",
     "text": [
      " 1\n"
     ]
    }
   ],
   "source": [
    "marks=int(input())\n",
    "\n",
    "if marks>50:\n",
    "    if(marks >80):\n",
    "     print('you got good marks')\n",
    "    else:\n",
    "     print(\"You are passed\")\n",
    "    "
   ]
  },
  {
   "cell_type": "markdown",
   "id": "45a2f4e2-248d-4f5c-8465-4de83d3148a1",
   "metadata": {},
   "source": [
    "Round upto what value you want to do "
   ]
  },
  {
   "cell_type": "code",
   "execution_count": 14,
   "id": "37e1f6c8-edb9-4cc8-ad8c-8d762b0eb7e1",
   "metadata": {},
   "outputs": [
    {
     "name": "stdout",
     "output_type": "stream",
     "text": [
      "2.38\n"
     ]
    }
   ],
   "source": [
    "print(round(2.383,2))"
   ]
  },
  {
   "cell_type": "markdown",
   "id": "f15064e8-a595-4c52-ac86-e7f6c43e5c25",
   "metadata": {},
   "source": [
    "Comments\n",
    "\n"
   ]
  },
  {
   "cell_type": "code",
   "execution_count": 15,
   "id": "7723fbe6-ef89-4bbd-b35a-a3fb41287b82",
   "metadata": {},
   "outputs": [
    {
     "data": {
      "text/plain": [
       "'This is the way to write a multi line comment in python .Just testing just testing \\n.Fine working '"
      ]
     },
     "execution_count": 15,
     "metadata": {},
     "output_type": "execute_result"
    }
   ],
   "source": [
    "#This is the way to add a single line comment in python\n",
    "\n",
    "\"\"\"This is the way to write a multi line comment in python .Just testing just testing \n",
    ".Fine working \"\"\"  "
   ]
  },
  {
   "cell_type": "markdown",
   "id": "e2c32d6c-e7f0-4b50-9e8f-3ac45e4e566a",
   "metadata": {},
   "source": [
    "WHILE LOOP WITH BREAK AND CONTINUE STATEMENTS "
   ]
  },
  {
   "cell_type": "code",
   "execution_count": 27,
   "id": "daf214e3-b41e-472c-875d-430c90e5c567",
   "metadata": {},
   "outputs": [
    {
     "name": "stdin",
     "output_type": "stream",
     "text": [
      "enter N 3\n"
     ]
    },
    {
     "name": "stdout",
     "output_type": "stream",
     "text": [
      "Wait !! we are finding it :)\n",
      "Wait !! we are finding it :)\n",
      "Wait !! we are finding it :)\n",
      "We have successfully break this loop !!!!\n",
      "hello\n",
      "done\n"
     ]
    }
   ],
   "source": [
    "i=0\n",
    "n=int(input(\"enter N\"))\n",
    "while True:\n",
    "    if i==n:\n",
    "        print(\"We have successfully break this loop !!!!\")\n",
    "       \n",
    "    else :\n",
    "        print(\"Wait !! we are finding it :)\")\n",
    "        i+=1\n",
    "        continue\n",
    "    print(\"hello\")\n",
    "    break\n",
    "   \n",
    "print(\"done\")"
   ]
  },
  {
   "cell_type": "code",
   "execution_count": 24,
   "id": "6eceb9af-62b0-4620-ac4f-d55dfad84417",
   "metadata": {},
   "outputs": [],
   "source": [
    "#to prevent from infinite loop go in kernel and select option of interrupt kernel it will stop the loop with saving also your data   "
   ]
  },
  {
   "cell_type": "markdown",
   "id": "dc3dcc8c-a427-49ec-a507-d97f1593a053",
   "metadata": {},
   "source": [
    "#Now lets do for loop:)\n",
    "append is use to enter elements in the list"
   ]
  },
  {
   "cell_type": "code",
   "execution_count": 12,
   "id": "5751d86b-566e-42b0-bd4a-07fc50b9446b",
   "metadata": {},
   "outputs": [
    {
     "name": "stdout",
     "output_type": "stream",
     "text": [
      "2\n",
      "Done\n"
     ]
    }
   ],
   "source": [
    "l=[]\n",
    "#here we do a jump of 2 rather then 1\n",
    "for i in range (1,2,2):\n",
    "    print(i+1)\n",
    "    l.append(i)\n",
    "\n",
    "print(\"Done\")\n"
   ]
  },
  {
   "cell_type": "code",
   "execution_count": 13,
   "id": "8fae133c-9afb-48cc-a45d-949115eab7d9",
   "metadata": {},
   "outputs": [
    {
     "name": "stdout",
     "output_type": "stream",
     "text": [
      "[1]\n"
     ]
    }
   ],
   "source": [
    "print(l)"
   ]
  },
  {
   "cell_type": "markdown",
   "id": "a5ad9c5a-b9d8-4708-9f01-6983c23ad20f",
   "metadata": {},
   "source": [
    "Lets do some tasks for sets with for loop\n"
   ]
  },
  {
   "cell_type": "code",
   "execution_count": 35,
   "id": "a444a2ac-d5ad-402d-b5a4-a17d03e672cf",
   "metadata": {},
   "outputs": [
    {
     "name": "stdout",
     "output_type": "stream",
     "text": [
      "banana \n",
      "2.7\n",
      "jo marzi kr le \n",
      "apple\n"
     ]
    }
   ],
   "source": [
    "S ={'apple',\"banana \",\"jo marzi kr le \",2.7}\n",
    "\n",
    "for x in S:\n",
    "    print(x)\n",
    "\n",
    "#Set is unordered so wheneever you print it ,it shows the values in it in random order and ,no duplicate value will be shown "
   ]
  },
  {
   "cell_type": "code",
   "execution_count": 37,
   "id": "350f276c-216e-4768-a62d-8f489f1a9db9",
   "metadata": {},
   "outputs": [
    {
     "name": "stdout",
     "output_type": "stream",
     "text": [
      "banana  2\n",
      "2.7 4\n",
      "jo marzi kr le  3\n",
      "apple 1\n"
     ]
    }
   ],
   "source": [
    "D ={'apple':1,\"banana \":2,\"jo marzi kr le \":3,2.7:4}\n",
    "#This is dictionary and each elemenet of the set belongs to OR points to a number here \n",
    "#Here also the order of the output would be random\n",
    "for x in S:\n",
    "    print(x,D[x])"
   ]
  },
  {
   "cell_type": "code",
   "execution_count": 38,
   "id": "bf77cfed-6277-4309-acbd-7fe615f8ecab",
   "metadata": {},
   "outputs": [],
   "source": [
    "#Lets solve a problem of sorting in python for the first time "
   ]
  },
  {
   "cell_type": "code",
   "execution_count": 49,
   "id": "72586566-5c99-44b4-b9e8-5cc4a0595b13",
   "metadata": {},
   "outputs": [
    {
     "name": "stdin",
     "output_type": "stream",
     "text": [
      "Enter n 4\n",
      "Enter 0th value -5\n",
      "Enter 1th value 4\n",
      "Enter 2th value 0\n",
      "Enter 3th value 3\n"
     ]
    },
    {
     "name": "stdout",
     "output_type": "stream",
     "text": [
      "List 1 [-5, 0, 3, 4]\n",
      "Liat 2 [-5, 0, 3, 4]\n"
     ]
    }
   ],
   "source": [
    "\"\"\"OK what the problem is you are given an array or list of N numbers you have to sort from min to max in another list \"\"\"\n",
    "\n",
    "l=[]\n",
    "Numberofelements=int(input(\"Enter n\"))\n",
    "\n",
    "for i in range(Numberofelements):\n",
    "    l.append(int(input(f\"Enter {i}th value\")))\n",
    "\n",
    "\n",
    "l2=[]\n",
    "\n",
    "for i in range(Numberofelements):\n",
    "    for j in range(Numberofelements-1):\n",
    "        if(l[j]>l[j+1]):\n",
    "            temp=l[j]\n",
    "            l[j]=l[j+1]\n",
    "            l[j+1]=temp\n",
    "\n",
    "for i in range(Numberofelements):\n",
    "    l2.append(l[i])\n",
    "\n",
    "\n",
    "print(\"List 1\",l)\n",
    "\n",
    "print(\"Liat 2\",l2)"
   ]
  },
  {
   "cell_type": "code",
   "execution_count": 50,
   "id": "a299a237-593b-4256-b147-4b150bced21c",
   "metadata": {
    "scrolled": true
   },
   "outputs": [
    {
     "name": "stdout",
     "output_type": "stream",
     "text": [
      "Variable               Type        Data/Info\n",
      "--------------------------------------------\n",
      "D                      dict        n=4\n",
      "Numberofelements       int         4\n",
      "S                      set         {'banana ', 2.7, 'jo marzi kr le ', 'apple'}\n",
      "dataframe_columns      function    <function dataframe_colum<...>ns at 0x000001BD111DFCE0>\n",
      "dataframe_hash         function    <function dataframe_hash at 0x000001BD111DE2A0>\n",
      "dtypes_str             function    <function dtypes_str at 0x000001BD111DC180>\n",
      "get_dataframes         function    <function get_dataframes at 0x000001BD111DE5C0>\n",
      "getpass                module      <module 'getpass' from 'C<...>condas\\\\Lib\\\\getpass.py'>\n",
      "hashlib                module      <module 'hashlib' from 'C<...>condas\\\\Lib\\\\hashlib.py'>\n",
      "i                      int         3\n",
      "import_pandas_safely   function    <function import_pandas_s<...>ly at 0x000001BD111DC400>\n",
      "is_data_frame          function    <function is_data_frame at 0x000001BD111DE340>\n",
      "j                      int         2\n",
      "json                   module      <module 'json' from 'C:\\\\<...>\\Lib\\\\json\\\\__init__.py'>\n",
      "l                      list        n=4\n",
      "l2                     list        n=4\n",
      "temp                   int         4\n",
      "x                      str         apple\n"
     ]
    }
   ],
   "source": [
    "\n",
    "%whos"
   ]
  },
  {
   "cell_type": "code",
   "execution_count": 51,
   "id": "c4c31634-c43a-4453-a498-7dcc7a2b3403",
   "metadata": {},
   "outputs": [],
   "source": [
    "#Here we're now going to introduce how to built your own functions "
   ]
  },
  {
   "cell_type": "code",
   "execution_count": 54,
   "id": "e63261a3-d64e-4532-8c8e-e3492f8202a9",
   "metadata": {},
   "outputs": [
    {
     "name": "stdout",
     "output_type": "stream",
     "text": [
      "First function builted seccesfully\n",
      "First function builted seccesfully\n",
      "First function builted seccesfully\n",
      "First function builted seccesfully\n"
     ]
    }
   ],
   "source": [
    "\n",
    "\n",
    "#it doesnot matter where you introduced / Define this above or below the calling only on jupyter notebook while on VS code you have declared it first\n",
    "\n",
    "\n",
    "for i in range(4):\n",
    "    makeyourfirstfunction()\n",
    "\n",
    "def makeyourfirstfunction():\n",
    "    print(\"First function builted seccesfully\")"
   ]
  },
  {
   "cell_type": "markdown",
   "id": "a0b22310-e3b7-42c4-93a5-d969236edfb1",
   "metadata": {},
   "source": [
    "Doc string function  \n",
    "Which includes comments usually for the readers to read what is happening inside the code"
   ]
  },
  {
   "cell_type": "code",
   "execution_count": 59,
   "id": "8018a9c4-0358-4b89-881c-5af205bca02f",
   "metadata": {},
   "outputs": [
    {
     "data": {
      "text/plain": [
       "\u001b[1;31mSignature:\u001b[0m \u001b[0mdocstringmessage\u001b[0m\u001b[1;33m(\u001b[0m\u001b[1;33m)\u001b[0m\u001b[1;33m\u001b[0m\u001b[1;33m\u001b[0m\u001b[0m\n",
       "\u001b[1;31mDocstring:\u001b[0m This is just doc string function \n",
       "\u001b[1;31mFile:\u001b[0m      c:\\users\\user\\appdata\\local\\temp\\ipykernel_6892\\2954960019.py\n",
       "\u001b[1;31mType:\u001b[0m      function"
      ]
     },
     "metadata": {},
     "output_type": "display_data"
    }
   ],
   "source": [
    "def docstringmessage():\n",
    "     \"\"\"This is just doc string function \"\"\"\n",
    "     print(\"Hello\")\n",
    "\n",
    "#Access like this \n",
    "docstringmessage?\n"
   ]
  },
  {
   "cell_type": "code",
   "execution_count": 65,
   "id": "ab7e6dc9-82d5-473d-9fc7-f3f4d8c0d96f",
   "metadata": {},
   "outputs": [
    {
     "name": "stdin",
     "output_type": "stream",
     "text": [
      "Enter something 353\n"
     ]
    },
    {
     "name": "stdout",
     "output_type": "stream",
     "text": [
      "Not string\n"
     ]
    }
   ],
   "source": [
    "#Argument passing in function\n",
    "\n",
    "def message(msg):\n",
    "    if isinstance(msg,str):\n",
    "        print(\"string\")\n",
    "\n",
    "    else:\n",
    "        print(\"Not string\")\n",
    "\n",
    "\n",
    "message(int(input(\"Enter something\")\n",
    "           ))"
   ]
  },
  {
   "cell_type": "code",
   "execution_count": 67,
   "id": "f0724e90-6776-42fd-9f61-e593ade59cac",
   "metadata": {},
   "outputs": [],
   "source": [
    "def power(a,b):\n",
    "    return a**b\n",
    "\n",
    "\n",
    "r=power(2,4)\n",
    "\n",
    "#More arguments like this"
   ]
  },
  {
   "cell_type": "code",
   "execution_count": 72,
   "id": "302a23b5-2a91-4ecb-95b5-c080c01d8b10",
   "metadata": {},
   "outputs": [
    {
     "name": "stdout",
     "output_type": "stream",
     "text": [
      "This is a 123\n",
      "This is c 2\n",
      "This is d ajagf\n"
     ]
    }
   ],
   "source": [
    "#you can change the values of the function arguments while calling it within the call\n",
    "\n",
    "def func(a,c,d):\n",
    "    print(\"This is a\",a)\n",
    "    print(\"This is c\",c)\n",
    "    print(\"This is d\",d)\n",
    "\n",
    "\n",
    "func(c=2,a=123,d=\"ajagf\")\n",
    "#what it works you can write any data you in order you want"
   ]
  },
  {
   "cell_type": "code",
   "execution_count": 74,
   "id": "9713a89b-e9bb-4cab-9780-ea9d29df3125",
   "metadata": {},
   "outputs": [],
   "source": [
    "#if the function doesnot return anything then it automattically returns none and its type is class <nontype>\n",
    "\n",
    "\n"
   ]
  },
  {
   "cell_type": "code",
   "execution_count": 75,
   "id": "9a14db95-031c-45a1-a6f6-6bfd4c9075a5",
   "metadata": {},
   "outputs": [
    {
     "name": "stdout",
     "output_type": "stream",
     "text": [
      "<function nonetype at 0x000001BD111DD300>\n",
      "<class 'function'>\n"
     ]
    }
   ],
   "source": [
    "def nonetype():\n",
    "    q=2\n",
    "\n",
    "\n",
    "print(nonetype)\n",
    "\n",
    "print(type(nonetype))"
   ]
  },
  {
   "cell_type": "code",
   "execution_count": 76,
   "id": "5b40cc83-2d89-4e5f-a130-92feb0370dd2",
   "metadata": {},
   "outputs": [
    {
     "name": "stdout",
     "output_type": "stream",
     "text": [
      "5\n",
      "3\n"
     ]
    }
   ],
   "source": [
    "h=3\n",
    "\n",
    "def func():\n",
    "    h=5\n",
    "    print(h)\n",
    "\n",
    "\n",
    "func()\n",
    "\n",
    "print (h)"
   ]
  },
  {
   "cell_type": "markdown",
   "id": "3c14963f-1fac-4ad8-9844-84333c913b4e",
   "metadata": {},
   "source": [
    "Priority order of variables in functions \n",
    "\n",
    "local variables > global variables "
   ]
  },
  {
   "cell_type": "code",
   "execution_count": 3,
   "id": "249d3bef-8db6-42cf-ad8f-6dc27a443b37",
   "metadata": {},
   "outputs": [
    {
     "name": "stdout",
     "output_type": "stream",
     "text": [
      "1 3 4\n"
     ]
    }
   ],
   "source": [
    "#Returning more than one statement OR values\n",
    "\n",
    "def returnmore():\n",
    "    a=1\n",
    "    b=3\n",
    "    c=4\n",
    "    return a,b,c\n",
    "\n",
    "\n",
    "x,y,z=returnmore()\n",
    "\n",
    "print(x,y,z)"
   ]
  },
  {
   "cell_type": "markdown",
   "id": "70592783-b532-412c-ab27-9a10c27fad8a",
   "metadata": {},
   "source": [
    "How to add any arbitraray number of elements in the function \n"
   ]
  },
  {
   "cell_type": "code",
   "execution_count": 11,
   "id": "f17bba54-9841-411c-bfc0-4b375df1f5cf",
   "metadata": {},
   "outputs": [
    {
     "data": {
      "text/plain": [
       "17"
      ]
     },
     "execution_count": 11,
     "metadata": {},
     "output_type": "execute_result"
    }
   ],
   "source": [
    "#here the args becomes and act like a list \n",
    "def adduniversalnumbers(*args):\n",
    "\n",
    "    sum=0\n",
    "    for x in args:\n",
    "        sum=sum+x\n",
    "\n",
    "\n",
    "    return sum\n",
    "\n",
    "adduniversalnumbers(2,4,5,3,2,1)\n",
    "    \n",
    "    "
   ]
  },
  {
   "cell_type": "code",
   "execution_count": 13,
   "id": "c3e7d38a-6e30-4f1f-9373-54020985749e",
   "metadata": {},
   "outputs": [],
   "source": [
    "#here we recieved it like dictionary ,args contains the list of keys of the dictionary elements \n",
    "\n",
    "#also note it *anything in function arguments means passing tuple and **anything means list of keys of dictionary values "
   ]
  },
  {
   "cell_type": "code",
   "execution_count": 12,
   "id": "b3c57e5c-17cc-45da-b406-c61d6ff5cc5f",
   "metadata": {},
   "outputs": [
    {
     "name": "stdout",
     "output_type": "stream",
     "text": [
      "y 2\n",
      "x hello\n"
     ]
    }
   ],
   "source": [
    "  def printnameswithkey(**args):\n",
    "      for x in  (args):\n",
    "          print(x,args[x])\n",
    "\n",
    "\n",
    "printnameswithkey(y=2,x='hello')"
   ]
  },
  {
   "cell_type": "code",
   "execution_count": 14,
   "id": "daba5ab4-0415-4318-8358-21be745d28f0",
   "metadata": {},
   "outputs": [
    {
     "name": "stdout",
     "output_type": "stream",
     "text": [
      "0\n",
      "3\n"
     ]
    }
   ],
   "source": [
    "#so now we will discuss default case  for functions when the argumnets are not passed.Here is an example:\n",
    "\n",
    "def default(sum=0):\n",
    "    print(sum)\n",
    "\n",
    "\n",
    "default()\n",
    "default(3)\n",
    "\n",
    "#also note list are passed by refrence, the variables we just passed are being copied on another variable "
   ]
  },
  {
   "cell_type": "code",
   "execution_count": 10,
   "id": "bd906c27-04c4-4eb9-85d2-d0bb6dacef1b",
   "metadata": {
    "scrolled": true
   },
   "outputs": [],
   "source": [
    "#importing functions/ modules from your one file to your working area "
   ]
  },
  {
   "cell_type": "code",
   "execution_count": 9,
   "id": "4870423b-fe81-4bab-bfdb-2069f2fc0cf2",
   "metadata": {},
   "outputs": [
    {
     "name": "stdout",
     "output_type": "stream",
     "text": [
      "hello\n",
      "8\n"
     ]
    }
   ],
   "source": [
    "import sys\n",
    "sys.path.append('C:/Users/User/Datascience')\n",
    "\n",
    "import only as o\n",
    "\n",
    "print(o.add(4,4))\n"
   ]
  },
  {
   "cell_type": "code",
   "execution_count": 11,
   "id": "33e71902-9cf9-44ac-9f0d-5a03cae7dc8a",
   "metadata": {},
   "outputs": [],
   "source": [
    "#now we will do without remembering the file as if were made in our on-going program"
   ]
  },
  {
   "cell_type": "code",
   "execution_count": 13,
   "id": "ca530aac-351d-4b37-a398-2d8cbebdadd6",
   "metadata": {},
   "outputs": [
    {
     "name": "stdout",
     "output_type": "stream",
     "text": [
      "-1\n"
     ]
    }
   ],
   "source": [
    "from only import minus\n",
    "\n",
    "#now you can use it without the function name \n",
    "\n",
    "d=minus(2,3)\n",
    "\n",
    "print(d)"
   ]
  },
  {
   "cell_type": "code",
   "execution_count": 18,
   "id": "8123ce54-5a7b-4f8e-8339-25f5de4fbbfe",
   "metadata": {},
   "outputs": [
    {
     "name": "stdout",
     "output_type": "stream",
     "text": [
      "t\n"
     ]
    }
   ],
   "source": [
    "print(\"s\" and \"t\")"
   ]
  },
  {
   "cell_type": "code",
   "execution_count": 1,
   "id": "492e8209-1c26-40b1-ba60-937088e34a89",
   "metadata": {},
   "outputs": [],
   "source": [
    "#NOW LET'S TAKE A LOOK AT STRING IN PYTHON"
   ]
  },
  {
   "cell_type": "code",
   "execution_count": 6,
   "id": "476c25d9-49ed-4345-a0e6-d8c63380f5e4",
   "metadata": {},
   "outputs": [
    {
     "name": "stdout",
     "output_type": "stream",
     "text": [
      "HELLO WORLD LETS TALK ABOUT STRING!\n",
      "HELLO WORLDLETS TALK ABOUT STRING!\n"
     ]
    }
   ],
   "source": [
    "V='HELLO WORLD'\n",
    "S='LETS TALK ABOUT STRING!'\n",
    "print(V,S)\n",
    "#print function automatically add space in between the strings\n",
    "\n",
    "d=V+S\n",
    "print(d)\n",
    "#no space will be added now\n",
    "\n"
   ]
  },
  {
   "cell_type": "code",
   "execution_count": 7,
   "id": "ca5f9956-c8f2-43f3-954f-b60c6b7577bc",
   "metadata": {},
   "outputs": [],
   "source": [
    "#multi line string \n",
    "\n",
    "\n"
   ]
  },
  {
   "cell_type": "code",
   "execution_count": 11,
   "id": "71260d3d-2bbf-4b8a-9b81-bc32689f057f",
   "metadata": {},
   "outputs": [
    {
     "name": "stdout",
     "output_type": "stream",
     "text": [
      "This is line 1\n",
      "This is line 2\n",
      "This is line 3 \n",
      "Select one option:\n",
      "1.Python \n",
      "2.No language other than python\n"
     ]
    }
   ],
   "source": [
    "S=\"\"\"This is line 1\n",
    "This is line 2\n",
    "This is line 3 \"\"\"\n",
    "\n",
    "\n",
    "print(S)\n",
    "\n",
    "#for formate our message multi line string is used\n",
    "\n",
    "print (\"\"\"Select one option:\n",
    "1.Python \n",
    "2.No language other than python\"\"\")"
   ]
  },
  {
   "cell_type": "code",
   "execution_count": 15,
   "id": "4826117f-1867-4e7d-ad38-003a6fd28f85",
   "metadata": {},
   "outputs": [
    {
     "name": "stdout",
     "output_type": "stream",
     "text": [
      "0\n",
      "9\n"
     ]
    }
   ],
   "source": [
    "#stirng slicing and indexing\n",
    "\n",
    "\n",
    "#As we know stirng starts from 0 index so we will make a stirg og numbers so it would be easy to check the indexing \n",
    "\n",
    "s='0123456789'\n",
    "\n",
    "print(s[0])\n",
    "print(s[len(s)-1])\n"
   ]
  },
  {
   "cell_type": "code",
   "execution_count": 23,
   "id": "d39b1314-39c6-4a0c-be5f-3817f217890b",
   "metadata": {},
   "outputs": [
    {
     "name": "stdout",
     "output_type": "stream",
     "text": [
      "01234\n",
      "9\n",
      "45678\n"
     ]
    }
   ],
   "source": [
    "#to make slicing OR make a substring from a string \n",
    "\n",
    "#for left side \n",
    "\n",
    "print(s[0:5])\n",
    "#it would not include the 5th element \n",
    "\n",
    "\n",
    "#now from right side \n",
    "\n",
    "print(s[-1])\n",
    "print(s[-6:-1])#count from right side -1 for the last digit and so on \n",
    "#this is known as slicing of strings "
   ]
  },
  {
   "cell_type": "code",
   "execution_count": 24,
   "id": "0303368d-3803-4f22-9f80-4081a1d83efc",
   "metadata": {},
   "outputs": [],
   "source": [
    "#The data types that can be changed are named as immutable in python \n",
    "\n",
    "#as example strings are also immutable once they generated can't be changed anymore\n",
    "\n",
    "#try this for above example s[0]='4' etc, it would generate an error \n"
   ]
  },
  {
   "cell_type": "code",
   "execution_count": 28,
   "id": "8b541dcc-95be-4808-999d-a8062d22d625",
   "metadata": {},
   "outputs": [
    {
     "name": "stdout",
     "output_type": "stream",
     "text": [
      "2345 024 23456789 02468\n"
     ]
    }
   ],
   "source": [
    "#s[start:end:step to move(1 is default) ]\n",
    "#if you dont enter anyone of those the default will set automatically\n",
    "\n",
    "print(s[2:6],\n",
    "s[:6:2],\n",
    "s[2:],\n",
    "s[::2])"
   ]
  },
  {
   "cell_type": "code",
   "execution_count": 29,
   "id": "79f87ff8-93e4-4e54-8a45-44f6939436a1",
   "metadata": {},
   "outputs": [],
   "source": [
    "#reversing  A string think if we dont mention start and ending point and in place of steps we add -1 ,it will taking elements from the last "
   ]
  },
  {
   "cell_type": "code",
   "execution_count": 30,
   "id": "5d8e1d83-b140-4ba2-b79b-9e915e04a79f",
   "metadata": {},
   "outputs": [
    {
     "data": {
      "text/plain": [
       "'9876543210'"
      ]
     },
     "execution_count": 30,
     "metadata": {},
     "output_type": "execute_result"
    }
   ],
   "source": [
    "s[::-1]"
   ]
  },
  {
   "cell_type": "code",
   "execution_count": 35,
   "id": "f28387e6-6f4f-4a8e-b67c-49fa49265cf5",
   "metadata": {},
   "outputs": [
    {
     "name": "stdout",
     "output_type": "stream",
     "text": [
      "hello   ::  world\n",
      "hello   ::  world\n",
      "HELLO   ::  WORLD\n",
      "HELLO       WORLD\n",
      "['HELL', '       W', 'RLD']\n"
     ]
    }
   ],
   "source": [
    "#now we will discuss some functions for string \n",
    "\n",
    "a=\"    hello   ::  world  \"\n",
    "\n",
    "b=a.strip()\n",
    "#it would remove spaces at beginning and at end\n",
    "print(b)\n",
    "\n",
    "c=b.lower()\n",
    "#it will lowers only capital alphabets\n",
    "print(c)\n",
    "\n",
    "d=c.upper()\n",
    "#it will uppercased only lower letters \n",
    "print(d)\n",
    "\n",
    "e=d.replace(\":\",\" \")\n",
    "#you can replace a string by another string\n",
    "print(e)\n",
    "\n",
    "f=e.split(\"O\")\n",
    "#split strings which are connected by \"string\"\n",
    "\n",
    "print(f)\n",
    "S\n",
    "#It will return a list "
   ]
  },
  {
   "cell_type": "code",
   "execution_count": 45,
   "id": "bfb7f185-896d-4388-9e67-3bdf0bfe67e2",
   "metadata": {},
   "outputs": [],
   "source": [
    "#in or not in to check whethet a substring is in a guven string or not "
   ]
  },
  {
   "cell_type": "code",
   "execution_count": 47,
   "id": "07add7c2-18e9-4616-865f-40b865b17439",
   "metadata": {},
   "outputs": [
    {
     "data": {
      "text/plain": [
       "False"
      ]
     },
     "execution_count": 47,
     "metadata": {},
     "output_type": "execute_result"
    }
   ],
   "source": [
    "\"abc \" in c "
   ]
  },
  {
   "cell_type": "code",
   "execution_count": 48,
   "id": "f1485577-5a00-4c2d-a78f-1cec5f2733ba",
   "metadata": {},
   "outputs": [
    {
     "data": {
      "text/plain": [
       "True"
      ]
     },
     "execution_count": 48,
     "metadata": {},
     "output_type": "execute_result"
    }
   ],
   "source": [
    "\"hello\" in c"
   ]
  },
  {
   "cell_type": "code",
   "execution_count": 49,
   "id": "b7b4ca13-32d8-4a9a-bcd2-1e98257a3bc4",
   "metadata": {},
   "outputs": [
    {
     "data": {
      "text/plain": [
       "False"
      ]
     },
     "execution_count": 49,
     "metadata": {},
     "output_type": "execute_result"
    }
   ],
   "source": [
    "\"hello\" not in c "
   ]
  },
  {
   "cell_type": "code",
   "execution_count": 53,
   "id": "8f98bd30-7b06-4a10-8ad2-813857170221",
   "metadata": {},
   "outputs": [
    {
     "name": "stdout",
     "output_type": "stream",
     "text": [
      "False\n",
      "True\n",
      "False\n",
      "True\n"
     ]
    }
   ],
   "source": [
    "\"\"\"You can use assignment operators on a string \n",
    "   such as == to check whether they are equal or not  <,>,<=,>= for comparison alphabetically \"\"\"\n",
    "\n",
    "\n",
    "print(\"abc\"==\"qbc\")\n",
    "print(\"abc\"<\"tre\")\n",
    "print(\"avc\">\"bter\")\n",
    "print(\"abc\"<=\"abt\")"
   ]
  },
  {
   "cell_type": "code",
   "execution_count": 55,
   "id": "7906039a-fd94-49be-9248-c9c80f1740e6",
   "metadata": {},
   "outputs": [
    {
     "name": "stdout",
     "output_type": "stream",
     "text": [
      "I am learning \"python\"\n",
      "I am learning \"python\"\n"
     ]
    }
   ],
   "source": [
    "# if you want to add double quotes in your sentence then either use escape sequence or use single quote\n",
    "\n",
    "print(\"I am learning \\\"python\\\"\")\n",
    "print('I am learning \"python\"')\n"
   ]
  },
  {
   "cell_type": "code",
   "execution_count": 56,
   "id": "fd2abeeb-b7a9-48df-90f7-1b799086fa9d",
   "metadata": {},
   "outputs": [
    {
     "name": "stdout",
     "output_type": "stream",
     "text": [
      "here is a \n",
      " new line \n",
      "Here is \t tab space \n"
     ]
    }
   ],
   "source": [
    "#/n for new line and /t for tab space\n",
    "\n",
    "print(\"here is a \\n new line \")\n",
    "\n",
    "print(\"Here is \\t tab space \")"
   ]
  },
  {
   "cell_type": "code",
   "execution_count": 57,
   "id": "72471704-bdd8-4acb-a48d-58f8930cf0ca",
   "metadata": {},
   "outputs": [
    {
     "name": "stdout",
     "output_type": "stream",
     "text": [
      "this is raw string everything inside would be remain same as usual like of \\n \\t\n"
     ]
    }
   ],
   "source": [
    "print(r\"this is raw string everything inside would be remain same as usual like of \\n \\t\")\n",
    "#bcz of r before \"\""
   ]
  },
  {
   "cell_type": "code",
   "execution_count": null,
   "id": "d322f900-9aa0-48c8-82ea-a2e7e708791f",
   "metadata": {},
   "outputs": [],
   "source": [
    "#On other part we would data structures onward"
   ]
  }
 ],
 "metadata": {
  "kernelspec": {
   "display_name": "Python [conda env:base] *",
   "language": "python",
   "name": "conda-base-py"
  },
  "language_info": {
   "codemirror_mode": {
    "name": "ipython",
    "version": 3
   },
   "file_extension": ".py",
   "mimetype": "text/x-python",
   "name": "python",
   "nbconvert_exporter": "python",
   "pygments_lexer": "ipython3",
   "version": "3.12.7"
  }
 },
 "nbformat": 4,
 "nbformat_minor": 5
}
