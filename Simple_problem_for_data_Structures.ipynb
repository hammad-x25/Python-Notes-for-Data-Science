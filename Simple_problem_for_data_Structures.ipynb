{
 "cells": [
  {
   "cell_type": "code",
   "execution_count": 5,
   "id": "c2516d3b-0599-4bd3-9992-a7bbb00ce769",
   "metadata": {},
   "outputs": [
    {
     "name": "stdin",
     "output_type": "stream",
     "text": [
      "Enter student Id 1\n",
      "Enter marks of the student seperated by comma 90,90,90\n",
      "Enter Y for to proceed N for quit  y\n",
      "Enter student Id 2\n",
      "Enter marks of the student seperated by comma 80,70,90\n",
      "Enter Y for to proceed N for quit  y\n",
      "Enter student Id 3\n",
      "Enter marks of the student seperated by comma 100,100,100\n",
      "Enter Y for to proceed N for quit  n\n"
     ]
    }
   ],
   "source": [
    "def getdatafromuser():\n",
    "    D={}\n",
    "    while True:\n",
    "         student_id=input(\"Enter student Id\")\n",
    "         marks=input(\"Enter marks of the student seperated by comma\")\n",
    "         proceed=input(\"Enter Y for to proceed N for quit \")\n",
    "         if student_id in D:\n",
    "              print(\"Its entered already ,try another\")\n",
    "         else:\n",
    "             D[student_id]=marks.split(',')\n",
    "         if proceed.lower() ==\"n\":\n",
    "            return D\n",
    "\n",
    "Data=getdatafromuser()"
   ]
  },
  {
   "cell_type": "code",
   "execution_count": 13,
   "id": "40ec0d20-976d-4e85-a313-0eb0e43261ef",
   "metadata": {},
   "outputs": [],
   "source": [
    "def getavg(D):\n",
    "    avgmarks={}\n",
    "    for i in D:\n",
    "        L=D[i]\n",
    "        total=0\n",
    "        for j in range(len(L)):\n",
    "            total+=int(L[j])\n",
    "        avgmarks[i]=total/len(L)\n",
    "    return avgmarks\n",
    "\n"
   ]
  },
  {
   "cell_type": "code",
   "execution_count": 14,
   "id": "9ae24a49-fa31-4441-841c-25a688781a2d",
   "metadata": {},
   "outputs": [
    {
     "name": "stdout",
     "output_type": "stream",
     "text": [
      "{'1': 90.0, '2': 80.0, '3': 100.0}\n"
     ]
    }
   ],
   "source": [
    "Avg_Marks=getavg(Data)\n",
    "\n",
    "print(Avg_Marks)"
   ]
  },
  {
   "cell_type": "code",
   "execution_count": null,
   "id": "6485327f-a9d9-4a97-b4e7-2d1f0e36648d",
   "metadata": {},
   "outputs": [],
   "source": []
  }
 ],
 "metadata": {
  "kernelspec": {
   "display_name": "Python [conda env:base] *",
   "language": "python",
   "name": "conda-base-py"
  },
  "language_info": {
   "codemirror_mode": {
    "name": "ipython",
    "version": 3
   },
   "file_extension": ".py",
   "mimetype": "text/x-python",
   "name": "python",
   "nbconvert_exporter": "python",
   "pygments_lexer": "ipython3",
   "version": "3.12.7"
  }
 },
 "nbformat": 4,
 "nbformat_minor": 5
}
