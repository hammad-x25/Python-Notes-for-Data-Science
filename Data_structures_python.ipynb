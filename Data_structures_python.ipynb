{
 "cells": [
  {
   "cell_type": "markdown",
   "id": "31063f32-0b01-4729-94c9-4f885212e412",
   "metadata": {},
   "source": [
    "\n",
    "Data Structures\n",
    "\n",
    "\n"
   ]
  },
  {
   "cell_type": "markdown",
   "id": "cd61860b-3e96-4216-b3f0-9e8bdc69228d",
   "metadata": {},
   "source": [
    "Mostly used Data structures are as follows with their properties:"
   ]
  },
  {
   "cell_type": "code",
   "execution_count": null,
   "id": "dd94546f-ea13-42d8-a06f-0ab0ec96e87d",
   "metadata": {},
   "outputs": [],
   "source": [
    "\"\"\"List:\n",
    "Ordered \n",
    "changeable\n",
    "Duplicates allowed\"\"\""
   ]
  },
  {
   "cell_type": "code",
   "execution_count": null,
   "id": "03ae48a4-fd90-45ce-a3d3-6bb22e3c8bb7",
   "metadata": {},
   "outputs": [],
   "source": [
    "\"\"\"Tuple:\n",
    "Ordered \n",
    "Unchangeable\n",
    "Duplicates allowed\"\"\""
   ]
  },
  {
   "cell_type": "code",
   "execution_count": null,
   "id": "4982a57b-3178-47e8-8dd4-0040a3429d74",
   "metadata": {},
   "outputs": [],
   "source": [
    "\"\"\"Set:\n",
    "Unordered \n",
    "addable/removeable\n",
    "No Duplicates allowed\"\"\""
   ]
  },
  {
   "cell_type": "code",
   "execution_count": null,
   "id": "34db8bec-d11d-49d9-9316-c19f5a91871c",
   "metadata": {},
   "outputs": [],
   "source": [
    "\"\"\"Dictionary:\n",
    "Unordered \n",
    "Changeable\n",
    "No Duplicates allowed\"\"\""
   ]
  },
  {
   "cell_type": "markdown",
   "id": "11136b85-b0b4-49b2-bdae-b0d32528301c",
   "metadata": {},
   "source": [
    "Declaration"
   ]
  },
  {
   "cell_type": "code",
   "execution_count": 3,
   "id": "877914b6-2571-46e9-a501-f5212e718b27",
   "metadata": {},
   "outputs": [],
   "source": [
    "L=[1,3,4,4.9,'name']\n",
    "T=(1,2,3,3.4,'name',4)\n",
    "S={1,3,4.9,'name',3}\n",
    "D={23:\"KEY1\",\"name\":\"Key2\",\"address\":3}"
   ]
  },
  {
   "cell_type": "code",
   "execution_count": 5,
   "id": "4b7ffbad-5c44-4492-aa17-b03745ef55f6",
   "metadata": {},
   "outputs": [
    {
     "name": "stdout",
     "output_type": "stream",
     "text": [
      "The type of L is  <class 'list'>\n",
      "The type of T is  <class 'tuple'>\n",
      "The type of S is  <class 'set'>\n",
      "The type of D is  <class 'dict'>\n"
     ]
    }
   ],
   "source": [
    "print(\"The type of L is \",type(L))\n",
    "print(\"The type of T is \",type(T))\n",
    "print(\"The type of S is \",type(S))\n",
    "print(\"The type of D is \",type(D))"
   ]
  },
  {
   "cell_type": "markdown",
   "id": "b951ab39-f18a-400a-ba32-44141bd134b2",
   "metadata": {},
   "source": [
    "Accessing Elements in these Data Structures "
   ]
  },
  {
   "cell_type": "code",
   "execution_count": 10,
   "id": "ae81ee4b-b4aa-4b69-b628-950b4bb88593",
   "metadata": {},
   "outputs": [
    {
     "name": "stdout",
     "output_type": "stream",
     "text": [
      "3\n",
      "1\n",
      "True\n",
      "KEY1\n"
     ]
    }
   ],
   "source": [
    "print(L[1])\n",
    "print(T[0])\n",
    "print(3 in S)#check whether 3 is in Set \n",
    "print(D[23])"
   ]
  },
  {
   "cell_type": "code",
   "execution_count": 16,
   "id": "62bec270-f8d7-4f92-9731-b51cd295f20d",
   "metadata": {},
   "outputs": [
    {
     "data": {
      "text/plain": [
       "[4, 4.9]"
      ]
     },
     "execution_count": 16,
     "metadata": {},
     "output_type": "execute_result"
    }
   ],
   "source": [
    "#Accessing sublist ,subset etc.\n",
    "\n",
    "#List or tuple name(start:end:steps to move(1 is default))\n",
    "#end is not included in the sublist or subtuple\n",
    "L[2:4]"
   ]
  },
  {
   "cell_type": "code",
   "execution_count": 14,
   "id": "d3712878-b330-4071-8c42-341465574582",
   "metadata": {},
   "outputs": [
    {
     "data": {
      "text/plain": [
       "(4, 'name', 3.4, 3, 2, 1)"
      ]
     },
     "execution_count": 14,
     "metadata": {},
     "output_type": "execute_result"
    }
   ],
   "source": [
    "T[::-1]#reversing it "
   ]
  },
  {
   "cell_type": "markdown",
   "id": "3fb959e1-31cd-4c46-8713-9682c8304316",
   "metadata": {},
   "source": [
    "Adding or appending elements \n"
   ]
  },
  {
   "cell_type": "code",
   "execution_count": 17,
   "id": "a6449d16-4945-47d2-ba13-1be845ea0568",
   "metadata": {},
   "outputs": [
    {
     "name": "stdout",
     "output_type": "stream",
     "text": [
      "[1, 3, 4, 4.9, 'name', 1, 2, 'tree']\n"
     ]
    }
   ],
   "source": [
    "L=L+[1,2,\"tree\"]\n",
    "print(L)"
   ]
  },
  {
   "cell_type": "code",
   "execution_count": 18,
   "id": "898e8cd7-3a2b-4bce-b51f-b32168b8991d",
   "metadata": {},
   "outputs": [
    {
     "name": "stdout",
     "output_type": "stream",
     "text": [
      "(1, 2, 3, 3.4, 'name', 4, 1, 2, 3, 4)\n"
     ]
    }
   ],
   "source": [
    "#Cant append or make changes in tuple bcz its is immutable\n",
    "\n",
    "#however we can do that,like \n",
    "\n",
    "t2=(1,2,3,4)\n",
    "t3=T+t2\n",
    "\n",
    "print(t3)"
   ]
  },
  {
   "cell_type": "code",
   "execution_count": 19,
   "id": "a9b90958-a561-4a73-8c62-e085ff31caae",
   "metadata": {},
   "outputs": [
    {
     "name": "stdout",
     "output_type": "stream",
     "text": [
      "{'name', 1, 3, 4.9, 'hello'}\n"
     ]
    }
   ],
   "source": [
    "S.add(\"hello\")\n",
    "\n",
    "print(S)"
   ]
  },
  {
   "cell_type": "code",
   "execution_count": 20,
   "id": "20527934-3153-4b07-bfb3-844ef01bb50f",
   "metadata": {},
   "outputs": [
    {
     "name": "stdout",
     "output_type": "stream",
     "text": [
      "{'name', 1, 3, 4.9, 'hello', 'black', 'tree'}\n"
     ]
    }
   ],
   "source": [
    "#if you want multiple items to add then use update \n",
    "\n",
    "S.update({'tree','black',3})\n",
    "\n",
    "print(S)"
   ]
  },
  {
   "cell_type": "code",
   "execution_count": 21,
   "id": "a4362715-06c5-4126-b3a3-bf9f7ecafc7f",
   "metadata": {},
   "outputs": [
    {
     "name": "stdout",
     "output_type": "stream",
     "text": [
      "{23: 'KEY1', 'name': 'Key2', 'address': 3, 'newkey': 'newvalue'}\n"
     ]
    }
   ],
   "source": [
    "D['newkey']='newvalue'\n",
    "\n",
    "print(D)"
   ]
  },
  {
   "cell_type": "code",
   "execution_count": 24,
   "id": "4bd4995a-94a6-4d8e-a001-bffb328c47e3",
   "metadata": {},
   "outputs": [
    {
     "name": "stdout",
     "output_type": "stream",
     "text": [
      "{23: 'hello', 'name': 'Key2', 'address': 3, 'newkey': 'newvalue'}\n"
     ]
    }
   ],
   "source": [
    "D[23]='hello'\n",
    "print(D)"
   ]
  },
  {
   "cell_type": "markdown",
   "id": "e31b0070-b8e6-40a6-be70-d32db8ea511b",
   "metadata": {},
   "source": [
    "\n",
    "Removing elements\n"
   ]
  },
  {
   "cell_type": "code",
   "execution_count": 26,
   "id": "2a4d2dca-2fab-4de7-9587-ac0b5f528783",
   "metadata": {},
   "outputs": [
    {
     "name": "stdout",
     "output_type": "stream",
     "text": [
      "[1, 3, 4, 4.9, 'name', 1, 2, 'tree']\n",
      "[1, 3, 4, 4.9, 1, 2, 'tree']\n"
     ]
    }
   ],
   "source": [
    "print(L)\n",
    "del L[4]\n",
    "\n",
    "print(L)\n"
   ]
  },
  {
   "cell_type": "code",
   "execution_count": 27,
   "id": "e3743b98-3e7e-444b-bf0e-9c2e3f7bed49",
   "metadata": {},
   "outputs": [
    {
     "name": "stdout",
     "output_type": "stream",
     "text": [
      "{'name', 1, 3, 4.9, 'hello', 'black', 'tree'}\n",
      "{'name', 1, 3, 4.9, 'hello', 'tree'}\n"
     ]
    }
   ],
   "source": [
    "print(S)\n",
    "S.remove(\"black\")\n",
    "\n",
    "print(S)"
   ]
  },
  {
   "cell_type": "code",
   "execution_count": 28,
   "id": "45e94717-9770-4294-b4c2-610c9e81731f",
   "metadata": {},
   "outputs": [
    {
     "name": "stdout",
     "output_type": "stream",
     "text": [
      "{23: 'hello', 'name': 'Key2', 'address': 3, 'newkey': 'newvalue'}\n",
      "{23: 'hello', 'name': 'Key2', 'address': 3}\n"
     ]
    }
   ],
   "source": [
    "print(D)\n",
    "del D['newkey']\n",
    "\n",
    "print(D)"
   ]
  },
  {
   "cell_type": "markdown",
   "id": "6b202ee8-1581-4baa-9066-eb82f61f2491",
   "metadata": {},
   "source": [
    "D2=D\n",
    "del D['name']\n",
    "print(D2)"
   ]
  },
  {
   "cell_type": "code",
   "execution_count": 1,
   "id": "1e96aa63-95e7-4ea1-a353-74fe0216c8a3",
   "metadata": {},
   "outputs": [],
   "source": [
    "# + operator doesn't work on dictionary we use update to add a dictionary to other "
   ]
  },
  {
   "cell_type": "code",
   "execution_count": 3,
   "id": "b23429a4-b3e8-4b5c-93d4-df0b93e33292",
   "metadata": {},
   "outputs": [
    {
     "name": "stdout",
     "output_type": "stream",
     "text": [
      "{'greeting': 'hello', 'tree': 'black'}\n",
      "{'greeting': 'hello', 'tree': 'black', 'greeting2': 'hey', 'key ': 'val'}\n"
     ]
    }
   ],
   "source": [
    "D={\"greeting\":\"hello\",\"tree\":\"black\"}\n",
    "print(D)\n",
    "D2={\"greeting2\":\"hey\",\"key \":\"val\"}\n",
    "D.update(D2)\n",
    "print(D)"
   ]
  },
  {
   "cell_type": "markdown",
   "id": "299228e7-3a71-4e36-b207-c6ab0410c721",
   "metadata": {},
   "source": [
    "How to copy one data structures into another\n"
   ]
  },
  {
   "cell_type": "code",
   "execution_count": 5,
   "id": "f8e04791-48c3-485b-a0e9-23266ce5ed4a",
   "metadata": {},
   "outputs": [],
   "source": [
    "# Except tuple , all the data structures use copy() function for copying as shown below\n",
    "\n"
   ]
  },
  {
   "cell_type": "markdown",
   "id": "00473213-b10e-4ebc-ad16-197d2a32afdb",
   "metadata": {},
   "source": [
    "D2=D.copy()\n",
    "S2=S.copy()\n",
    "L2=L.copy()\n",
    "\n",
    "#For tuple simple is as \n",
    "\n",
    "T2=T\n",
    "\n",
    "#BUt here a question rises why we don't do for other as well like we do for tuple \n",
    "\n",
    "\"The answer is when you do like L2=L Or for set or dict. it passed by reference and when you change value in one ,the value in other will also change too ,so that's why we use copy() function \"\n",
    "\n",
    "#but why for tuple its bcz tuple is immutable so value can't change in both \n",
    "\n",
    "\n",
    "Note:\n",
    "    When we do slicing for a list the new list formed has a new memory location while inn numpy array the array which is sliced is passed by reference we will discuss it in numpy chapter."
   ]
  },
  {
   "cell_type": "markdown",
   "id": "cec1a613-06c1-45c4-9269-80b0fbe4aa1a",
   "metadata": {},
   "source": [
    "\n",
    "\n",
    "\n",
    "You can use other data structures to be stored in one data structure\n",
    "\n",
    "\n"
   ]
  },
  {
   "cell_type": "code",
   "execution_count": 6,
   "id": "66b8d892-f557-49f0-b5c5-6598db0c7663",
   "metadata": {},
   "outputs": [],
   "source": [
    "# as like \n",
    "L=[1,3,3,4,5]\n",
    "T=[1,3,2,4,5]\n",
    "S={1,2,'name'}\n",
    "D2={\"a\":L,'b':S}"
   ]
  },
  {
   "cell_type": "code",
   "execution_count": 8,
   "id": "4c85164f-c290-4f69-b5a0-e5cc18e0cd2a",
   "metadata": {},
   "outputs": [
    {
     "name": "stdout",
     "output_type": "stream",
     "text": [
      "[1, 3, 3, 4, 5]\n"
     ]
    }
   ],
   "source": [
    "print(D2[\"a\"])"
   ]
  },
  {
   "cell_type": "code",
   "execution_count": 14,
   "id": "78bfca83-b12c-4d4a-b3f9-9f33439c55ae",
   "metadata": {},
   "outputs": [
    {
     "name": "stdout",
     "output_type": "stream",
     "text": [
      "{'name', 2, 1}\n"
     ]
    }
   ],
   "source": [
    "print(D2['b'])"
   ]
  },
  {
   "cell_type": "code",
   "execution_count": 15,
   "id": "cedccc3d-361c-4cde-a7ce-e33376e1c147",
   "metadata": {},
   "outputs": [],
   "source": [
    "L=[T,S,D2]"
   ]
  },
  {
   "cell_type": "code",
   "execution_count": 16,
   "id": "01acdbee-8965-4d45-8e65-50c042b00413",
   "metadata": {},
   "outputs": [
    {
     "data": {
      "text/plain": [
       "[1, 3, 2, 4, 5]"
      ]
     },
     "execution_count": 16,
     "metadata": {},
     "output_type": "execute_result"
    }
   ],
   "source": [
    "L[0]"
   ]
  },
  {
   "cell_type": "code",
   "execution_count": 17,
   "id": "c6e98a05-0b99-4b0f-a528-c90ab63fa387",
   "metadata": {},
   "outputs": [
    {
     "data": {
      "text/plain": [
       "{'a': [1, 3, 3, 4, 5], 'b': {1, 2, 'name'}}"
      ]
     },
     "execution_count": 17,
     "metadata": {},
     "output_type": "execute_result"
    }
   ],
   "source": [
    "L[2]"
   ]
  },
  {
   "cell_type": "code",
   "execution_count": 21,
   "id": "018c4056-06a3-48b7-9f5f-e7e7f3f4d06b",
   "metadata": {},
   "outputs": [
    {
     "name": "stdout",
     "output_type": "stream",
     "text": [
      "[0, 1, 4, 9, 16, 25, 36, 49, 64, 81]\n"
     ]
    }
   ],
   "source": [
    "L3=[x**2 for x in range(10)]\n",
    "print(L3)"
   ]
  },
  {
   "cell_type": "code",
   "execution_count": null,
   "id": "6bbc7ee1-23f1-428e-ac6c-bcabacb28451",
   "metadata": {},
   "outputs": [],
   "source": [
    "\"\"\"\n",
    "On next chapter we have solved a small problem of marks but that can help alot about using the right\n",
    "data structure in problem solving \n",
    "\"\"\"\n"
   ]
  },
  {
   "cell_type": "code",
   "execution_count": null,
   "id": "8bc7f2ec-1ee4-4e10-924d-6474fb7d5cec",
   "metadata": {},
   "outputs": [],
   "source": []
  }
 ],
 "metadata": {
  "kernelspec": {
   "display_name": "Python [conda env:base] *",
   "language": "python",
   "name": "conda-base-py"
  },
  "language_info": {
   "codemirror_mode": {
    "name": "ipython",
    "version": 3
   },
   "file_extension": ".py",
   "mimetype": "text/x-python",
   "name": "python",
   "nbconvert_exporter": "python",
   "pygments_lexer": "ipython3",
   "version": "3.12.7"
  }
 },
 "nbformat": 4,
 "nbformat_minor": 5
}
